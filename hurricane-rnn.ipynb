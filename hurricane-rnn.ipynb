{
 "cells": [
  {
   "cell_type": "markdown",
   "metadata": {},
   "source": [
    "# SparkDev AI Hurricane Trajectory Prediction\n",
    "\n",
    "In this project, we'll be using neural networks to predict the trajectory paths of hurricanes in South Florida. We will be using the Hurricane Database dataset from Unisys Weather. Here we will preprocess the data, then train a recurrent neural network on some of the samples. At the end, we'll get to see our neural network's hurricane trajectory path predictions.\n",
    "\n",
    "### Get and Analyze the Data\n",
    "\n",
    "[Here's the link containing the entire dataset.](http://weather.unisys.com/hurricane/atlantic/) So far, we're using only the years 2000 to 2009 and is saved on our repo as '2000-2009-data.csv'. We have to get an idea of the hurricanes' behavior to properly create a model for our neural network. "
   ]
  },
  {
   "cell_type": "code",
   "execution_count": null,
   "metadata": {},
   "outputs": [],
   "source": [
    "import pandas as pd\n",
    "import numpy as np\n",
    "\n",
    "data = pd.read_csv('1920-2012-data.csv', index_col=None, names=['Year', 'Month', 'Day', 'Hour', 'HurricaneNum', 'Name', 'Lat', 'Long', 'WindSpeed', 'Pressure', 'NullCol'])\n",
    "\n",
    "# Create a unique key for all of the hurricane\n",
    "data['unique-key'] = data['Name'] + '-' + data['Year'].map(str) + '-' + data['HurricaneNum'].map(str)\n",
    "\n",
    "# Delete the columns of information that we are not using so far\n",
    "data.drop(['Name', 'HurricaneNum', 'Year', 'NullCol'], axis = 1, inplace = True)\n",
    "\n",
    "# Preview the first 5 rows of data\n",
    "data.head()"
   ]
  },
  {
   "cell_type": "code",
   "execution_count": null,
   "metadata": {},
   "outputs": [],
   "source": [
    "# Remove hurricanes where pressure = 0\n",
    "data = data[data['Pressure'] != 0]\n",
    "\n",
    "# Finding errors in CSV\n",
    "data = data[~data['Lat'].str.contains(\"NAMED\")]\n",
    "\n",
    "data.head()"
   ]
  },
  {
   "cell_type": "code",
   "execution_count": null,
   "metadata": {},
   "outputs": [],
   "source": [
    "# Total amount of hurricanes we have in our dataset \n",
    "total_hurricane_count = len(pd.unique(data['unique-key']))\n",
    "print(total_hurricane_count)"
   ]
  },
  {
   "cell_type": "code",
   "execution_count": null,
   "metadata": {},
   "outputs": [],
   "source": [
    "# Since our keys are strings, we enumerate them to access them as integers \n",
    "keys = list(enumerate(pd.unique(data['unique-key'])))\n",
    "\n",
    "\n",
    "\n",
    "total_hurricane_count = len(pd.unique(data['unique-key']))\n",
    "print(total_hurricane_count)\n",
    "\n",
    "y = np.zeros((total_hurricane_count))\n",
    "for x in range(0,total_hurricane_count):\n",
    "    y[x] = len(pd.DataFrame(data[data['unique-key'] == keys[x][1]], columns = data.keys()).reset_index(drop = True))\n",
    "    \n",
    "# Now contains how many time instances of data (or rows) each hurricane contains \n",
    "hurricane_amount = pd.DataFrame(y)"
   ]
  },
  {
   "cell_type": "code",
   "execution_count": null,
   "metadata": {},
   "outputs": [],
   "source": [
    "# Provides statistical information about the DataFrame \n",
    "# From here we can see that the shortest hurricane only has 4 rows of information and the largest hurricane has 94 rows\n",
    "hurricane_amount.describe()"
   ]
  },
  {
   "cell_type": "code",
   "execution_count": null,
   "metadata": {},
   "outputs": [],
   "source": [
    "# Print the hurricane key with the amount of data they contain\n",
    "print ('Top 6 Hurricanes (in terms of data quantity)')\n",
    "for x in hurricane_amount.nlargest(6, 0).index:\n",
    "    print (keys[x][1], \"-\", hurricane_amount.loc[x][0])"
   ]
  },
  {
   "cell_type": "code",
   "execution_count": 21,
   "metadata": {},
   "outputs": [
    {
     "data": {
      "image/png": "iVBORw0KGgoAAAANSUhEUgAAAwAAAAIPCAYAAADEoLnvAAAABHNCSVQICAgIfAhkiAAAAAlwSFlz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\nADMzMzOzCnEAYGZmZmZWIf8B6g5FClHxnLwAAAAASUVORK5CYII=\n",
      "text/plain": [
       "<matplotlib.figure.Figure at 0x1157d5668>"
      ]
     },
     "metadata": {
      "image/png": {
       "height": 263,
       "width": 384
      }
     },
     "output_type": "display_data"
    }
   ],
   "source": [
    "%matplotlib inline\n",
    "%config InlineBackend.figure_format = 'retina'\n",
    "\n",
    "# import matplotlib.pyplot as plt\n",
    "\n",
    "# # Print the distribution of data quantity for all hurricanes\n",
    "# dist = hurricane_amount.plot.hist(bins=20, edgecolor='black', histtype='barstacked', color='white', legend=None, linewidth=1.2)\n",
    "# # plt.xlabel(\"Data Quantity per Hurricane\")\n",
    "# # plt.ylabel(\"Frequency\")\n",
    "\n",
    "# # plt.savefig('data_quantity_distribution')\n",
    "# plt.show()"
   ]
  },
  {
   "cell_type": "code",
   "execution_count": 22,
   "metadata": {},
   "outputs": [],
   "source": [
    "%matplotlib inline\n",
    "%config InlineBackend.figure_format = 'retina'\n",
    "\n",
    "import matplotlib.pyplot as plt\n",
    "\n",
    "# Print the distribution of data quantity for all hurricanes\n",
    "dist = hurricane_amount.plot.hist(bins=20, edgecolor='black', histtype='barstacked', color='white', legend=None, linewidth=1.2)\n",
    "# plt.xlabel(\"Data Quantity per Hurricane\")\n",
    "# plt.ylabel(\"Frequency\")\n",
    "\n",
    "# plt.savefig('data_quantity_distribution')\n",
    "plt.show()"
   ]
  },
  {
   "cell_type": "code",
   "execution_count": null,
   "metadata": {},
   "outputs": [],
   "source": [
    "data.describe()"
   ]
  },
  {
   "cell_type": "code",
   "execution_count": null,
   "metadata": {},
   "outputs": [],
   "source": [
    "cond = (hurricane_amount > 6) & (hurricane_amount < 60)\n",
    "keys25 = []\n",
    "\n",
    "for x in cond.index:\n",
    "    if cond.loc[x][0]:\n",
    "        keys25.append(keys[x][1])\n",
    "\n",
    "word2keys = {}\n",
    "for x in keys:\n",
    "    word2keys[x[1]] = x[0]\n",
    "    \n",
    "data = data[data['unique-key'].isin(keys25)]\n",
    "keys = list(enumerate(pd.unique(data['unique-key'])))\n",
    "data.head()"
   ]
  },
  {
   "cell_type": "code",
   "execution_count": null,
   "metadata": {},
   "outputs": [],
   "source": [
    "# Total amount of data tuples\n",
    "total_data_count = len(data)\n",
    "print(total_data_count)\n",
    "\n",
    "# Total amount of hurricanes (again to double check if things were removed)\n",
    "total_hurricane_count = len(pd.unique(data['unique-key']))\n",
    "print(total_hurricane_count)"
   ]
  },
  {
   "cell_type": "markdown",
   "metadata": {},
   "source": [
    "### Data Preprocessing\n",
    "\n",
    "From the dataset, we have latitude and longitude. It is easier for the neural network to learn from distance vectors since these values do not contain negative values (like latitude and longitude). To preprocess our data, we will calculate the angle of travel and distance between each given point and add that as new columns to our DataFrame. In addition, we will remove the outlier hurricanes, to get a more normal distribution to insert into the neural network."
   ]
  },
  {
   "cell_type": "code",
   "execution_count": 25,
   "metadata": {
    "collapsed": true
   },
   "outputs": [],
   "source": [
    "from geopy.distance import great_circle as vc\n",
    "import math as Math\n",
    "\n",
    "# temp = data['Lat'].select_dtypes(include=['float64'])\n",
    "# Lat has some rows with missing values?? check\n",
    "\n",
    "y = np.zeros(total_hurricane_count)\n",
    "data['distance'] = np.zeros(total_data_count)\n",
    "data['direction'] = np.zeros(total_data_count)\n",
    "\n",
    "# For all hurricanes\n",
    "for x in range(0, total_hurricane_count):\n",
    "    t = pd.DataFrame(data[data['unique-key'] == keys[x][1]], columns = data.keys()).reset_index(drop = False)\n",
    "    dst = 0\n",
    "    prev = (0,0)\n",
    "    \n",
    "    # For all latitude and longitude points of hurricane, calculate the angle of travel and distance\n",
    "    for p in zip(t['Lat'], t['Long']):\n",
    "        \n",
    "        if prev == (0,0):\n",
    "            prev = p\n",
    "            continue \n",
    "        # Stores the distance into the DataFrame\n",
    "        data.set_value(t[(t['Lat'] == p[0]) & (t['Long'] == p[1])]['index'].values[0], 'distance', vc(prev,p).miles)\n",
    "        \n",
    "        dLon = p[1] - prev[1];  \n",
    "        temp = float(p[0]) # p[0] is a str?\n",
    "        y_x = Math.sin(dLon) * Math.cos(temp);\n",
    "        \n",
    "        x_x = Math.cos(p[1]) * Math.sin(temp) - Math.sin(p[1]) * Math.cos(temp) * Math.cos(dLon);\n",
    "        brng = Math.degrees(Math.atan2(y_x, x_x)) \n",
    "        if (brng < 0):\n",
    "            brng+= 360;\n",
    "        \n",
    "        # Stores the angle of travel into the DataFrame\n",
    "        data.set_value(t[(t['Lat'] == p[0]) & (t['Long'] == p[1])]['index'].values[0], 'direction', brng)\n",
    "        dst += vc(prev,p).miles\n",
    "        prev = p\n",
    "    y[x] = dst\n",
    "\n",
    "# Now contains the distance between all given latitude and longitude points\n",
    "hurricane_distance = pd.DataFrame(y)"
   ]
  },
  {
   "cell_type": "code",
   "execution_count": null,
   "metadata": {},
   "outputs": [],
   "source": [
    "# Columns have been added\n",
    "data.head()"
   ]
  },
  {
   "cell_type": "code",
   "execution_count": null,
   "metadata": {},
   "outputs": [],
   "source": [
    "# Here we can see that the hurricane that traveled the least only traveled 65 miles, while the one that traveled the most traveled 8402 miles\n",
    "hurricane_distance.describe()"
   ]
  },
  {
   "cell_type": "code",
   "execution_count": null,
   "metadata": {},
   "outputs": [],
   "source": [
    "# Print the hurricane key with the amount of data they contain\n",
    "print ('Top 6 Hurricanes (in terms of distance traveled)')\n",
    "for x in hurricane_distance.nlargest(6, 0).index:\n",
    "    print (keys[x][1], \"-\", hurricane_distance.loc[x][0], \"miles -\", hurricane_amount.loc[x][0])\n",
    "    \n",
    "print(len(hurricane_distance[0]))\n",
    "print(len(hurricane_amount[0]))\n",
    "    \n",
    "# # Plotted the amount of hurricane distance traveled vs the amount of data they contain.\n",
    "# corr = plt.scatter(hurricane_distance[0], hurricane_amount[0], color=\"black\")\n",
    "# plt.xlabel(\"Distance Traveled\")\n",
    "# plt.ylabel(\"Data Points recorded per Hurricane\")\n",
    "\n",
    "# plt.savefig('data_quantity_distribution')\n",
    "# plt.show()\n",
    "\n",
    "# data.to_csv('checkpoint-dataframe.csv') # Save checkpoint"
   ]
  },
  {
   "cell_type": "code",
   "execution_count": null,
   "metadata": {},
   "outputs": [],
   "source": [
    "from mpl_toolkits.basemap import Basemap\n",
    "import matplotlib.cm as cm\n",
    "\n",
    "n = 5 # Number of hurricanes\n",
    "\n",
    "# Graph the trajectories of the longest hurricanes (the ones that traveled the most)\n",
    "data = pd.read_csv('checkpoint-dataframe.csv', index_col=0, header=0)\n",
    "\n",
    "plt.figure(figsize=(10,5))\n",
    "m = Basemap(llcrnrlon=-110.,llcrnrlat=5.,urcrnrlon=10.,urcrnrlat=60.,\n",
    "            rsphere=(6378137.00,6356752.3142),\n",
    "            resolution='l',\n",
    "            projection='merc',\n",
    "            lat_0=40.,lon_0=-20.,lat_ts=20.)\n",
    "m.drawcoastlines()\n",
    "m.drawcountries()\n",
    "m.drawmapboundary(fill_color='white')\n",
    "m.fillcontinents(color='#D3D3D3')\n",
    "m.drawparallels(np.arange(10,90,20),labels=[1,1,0,1])\n",
    "m.drawmeridians(np.arange(-180,180,30),labels=[1,1,0,1])\n",
    "\n",
    "for x in hurricane_amount.nlargest(n,0).index:\n",
    "    largest_hurr = data[data['unique-key'] == keys[x][1]]\n",
    "    lat = largest_hurr['Lat'].values\n",
    "    long = largest_hurr['Long'].values\n",
    "    xpt, ypt = m(long, lat)\n",
    "#     plt.text(xpt[40]+100000,ypt[40]+100000, '%s (%5.1fW,%3.1fN)' % (keys[x][1].split('-')[0],long[0],lat[0]))\n",
    "    plt.text(xpt[len(lat) - 1]+100000,ypt[len(long) - 1]+100000, '%s (%s)' % (keys[x][1].split('-')[0],keys[x][1].split('-')[1]))\n",
    "    m.plot(xpt, ypt, linewidth=2, color='#C70039')\n",
    "    \n",
    "# plt.title('Top 5 Atlantic Hurricanes (Distance Traveled)')\n",
    "plt.savefig('largest_dist_hurricanes')\n",
    "plt.show()"
   ]
  },
  {
   "cell_type": "code",
   "execution_count": null,
   "metadata": {},
   "outputs": [],
   "source": [
    "# Graph the trajectories of the shortest hurricanes (the ones that traveled the least)\n",
    "plt.figure(figsize=(10,5))\n",
    "m = Basemap(llcrnrlon=-110.,llcrnrlat=5.,urcrnrlon=10.,urcrnrlat=60.,\n",
    "            rsphere=(6378137.00,6356752.3142),\n",
    "            resolution='l',\n",
    "            projection='merc',\n",
    "            lat_0=40.,lon_0=-20.,lat_ts=20.)\n",
    "m.drawcoastlines()\n",
    "m.drawcountries()\n",
    "m.drawmapboundary(fill_color='white')\n",
    "m.fillcontinents(color='#D3D3D3')\n",
    "m.drawparallels(np.arange(10,90,20),labels=[1,1,0,1])\n",
    "m.drawmeridians(np.arange(-180,180,30),labels=[1,1,0,1])\n",
    "\n",
    "for x in hurricane_amount.nsmallest(n,0).index:\n",
    "    largest_hurr = data[data['unique-key'] == keys[x][1]]\n",
    "    lat = largest_hurr['Lat'].values\n",
    "    long = largest_hurr['Long'].values\n",
    "    xpt, ypt = m(long, lat)\n",
    "    plt.text(xpt[0]+100000,ypt[0]+100000, '%s (%s)' % (keys[x][1].split('-')[0],keys[x][1].split('-')[1]))\n",
    "    m.plot(xpt, ypt, linewidth=2, color='#C70039')\n",
    "    \n",
    "# plt.title('Smallest 5 Atlantic Hurricanes (Distance Traveled)')\n",
    "plt.savefig('smallest_dist_hurricanes')\n",
    "plt.show()"
   ]
  },
  {
   "cell_type": "code",
   "execution_count": null,
   "metadata": {},
   "outputs": [],
   "source": [
    "# Graph the trajectories of 3 random hurricanes \n",
    "plt.figure(figsize=(10,5))\n",
    "m = Basemap(llcrnrlon=-110.,llcrnrlat=5.,urcrnrlon=10.,urcrnrlat=60.,\n",
    "            rsphere=(6378137.00,6356752.3142),\n",
    "            resolution='l',\n",
    "            projection='merc',\n",
    "            lat_0=40.,lon_0=-20.,lat_ts=20.)\n",
    "m.drawcoastlines()\n",
    "m.drawcountries()\n",
    "m.drawmapboundary(fill_color='white')\n",
    "m.fillcontinents(color='#D3D3D3')\n",
    "m.drawparallels(np.arange(10,90,20),labels=[1,1,0,1])\n",
    "m.drawmeridians(np.arange(-180,180,30),labels=[1,1,0,1])\n",
    "\n",
    "for x in np.random.choice(539, n):\n",
    "    largest_hurr = data[data['unique-key'] == keys[x][1]]\n",
    "    lat = largest_hurr['Lat'].values\n",
    "    long = largest_hurr['Long'].values\n",
    "    xpt, ypt = m(long, lat)\n",
    "    plt.text(xpt[0]+100000,ypt[0]+100000, '%s (%s)' % (keys[x][1].split('-')[0],keys[x][1].split('-')[1]))\n",
    "    m.plot(xpt, ypt, linewidth=2, color='#C70039')\n",
    "    \n",
    "# plt.title('Random 5 Atlantic Hurricanes')\n",
    "plt.savefig('random_dist_hurricanes')\n",
    "plt.show()"
   ]
  },
  {
   "cell_type": "code",
   "execution_count": 135,
   "metadata": {
    "collapsed": true
   },
   "outputs": [],
   "source": [
    "# # We are removing some outliers that contain too little or too much information to keep a more normal distribution.\n",
    "# cond = (hurricane_amount > 13) & (hurricane_amount < 60)\n",
    "# keys25 = []\n",
    "\n",
    "# for x in cond.index:\n",
    "#     if cond.loc[x][0]:\n",
    "#         keys25.append(keys[x][1])\n",
    "\n",
    "# word2keys = {}\n",
    "# for x in keys:\n",
    "#     word2keys[x[1]] = x[0]\n",
    "    \n",
    "# df = data[data['unique-key'].isin(keys25)]\n",
    "# df.head()"
   ]
  },
  {
   "cell_type": "code",
   "execution_count": null,
   "metadata": {
    "collapsed": true
   },
   "outputs": [],
   "source": [
    "# # Total amount of hurricanes we have now \n",
    "# print(len(pd.unique(df['unique-key'])))"
   ]
  },
  {
   "cell_type": "code",
   "execution_count": null,
   "metadata": {
    "collapsed": true
   },
   "outputs": [],
   "source": [
    "# # Description of our new dataset \n",
    "# df.describe()"
   ]
  },
  {
   "cell_type": "code",
   "execution_count": null,
   "metadata": {},
   "outputs": [],
   "source": [
    "# # Same thing we did before to view the data but now with the reduced dataset \n",
    "# keys = list(enumerate(pd.unique(df['unique-key'])))\n",
    "\n",
    "# y = np.zeros((116))\n",
    "# for x in range(0,116):\n",
    "#     y[x] = len(pd.DataFrame(df[df['unique-key'] == keys[x][1]], columns = df.keys()).reset_index(drop = True))\n",
    "\n",
    "# hurricane_amount = pd.DataFrame(y)"
   ]
  },
  {
   "cell_type": "code",
   "execution_count": null,
   "metadata": {
    "collapsed": true
   },
   "outputs": [],
   "source": [
    "# # Now we can see that we have at least 14 rows of information per hurricane and at most 59.\n",
    "# hurricane_amount.describe()"
   ]
  },
  {
   "cell_type": "code",
   "execution_count": null,
   "metadata": {},
   "outputs": [],
   "source": [
    "print ('Top 6 Hurricanes (in terms of data quantity)')\n",
    "for x in hurricane_amount.nlargest(6, 0).index:\n",
    "    print (keys[x][1], \"-\", hurricane_amount.loc[x][0])\n",
    "    \n",
    "hurricane_amount.plot.hist(bins=20, edgecolor='black', histtype='barstacked', color='white', legend=None, linewidth=1.2)\n",
    "plt.xlabel(\"Data Quantity per Hurricane\")\n",
    "plt.ylabel(\"Frequency\")\n",
    "\n",
    "plt.savefig('data_quantity_distribution')\n",
    "plt.show()"
   ]
  },
  {
   "cell_type": "code",
   "execution_count": null,
   "metadata": {},
   "outputs": [],
   "source": [
    "df = data\n",
    "\n",
    "# Distribution of distance traveled in a 6 hour time interval for all hurricanes\n",
    "dist = df[df['distance'] > 0]\n",
    "dist = np.log(dist['distance'])\n",
    "ser = pd.Series(dist)\n",
    "ser.plot.kde()"
   ]
  },
  {
   "cell_type": "code",
   "execution_count": null,
   "metadata": {},
   "outputs": [],
   "source": [
    "# Distribution of angle traveled in a 6 hour time interval for all hurricanes\n",
    "direc = df[df['direction'] > 0]\n",
    "direc = np.log(direc['direction'])\n",
    "ser = pd.Series(direc)\n",
    "ser.plot.kde()"
   ]
  },
  {
   "cell_type": "code",
   "execution_count": null,
   "metadata": {},
   "outputs": [],
   "source": [
    "# Graph all points \n",
    "plt.figure(figsize=(10,5))\n",
    "m = Basemap(llcrnrlon=-110.,llcrnrlat=5.,urcrnrlon=10.,urcrnrlat=60.,\n",
    "            rsphere=(6378137.00,6356752.3142),\n",
    "            resolution='l',\n",
    "            projection='merc',\n",
    "            lat_0=40.,lon_0=-20.,lat_ts=20.)\n",
    "m.drawcoastlines()\n",
    "m.drawcountries()\n",
    "m.drawmapboundary(fill_color='white')\n",
    "m.fillcontinents(color='#D3D3D3')\n",
    "m.drawparallels(np.arange(10,90,20),labels=[1,1,0,1])\n",
    "m.drawmeridians(np.arange(-180,180,30),labels=[1,1,0,1])\n",
    "\n",
    "# largest_hurr = data[data['unique-key'] == keys[x][1]]\n",
    "lat = data['Lat'].values\n",
    "long = data['Long'].values\n",
    "xpt, ypt = m(long, lat)\n",
    "#     plt.text(xpt[0]+100000,ypt[0]+100000, '%s (%s)' % (keys[x][1].split('-')[0],keys[x][1].split('-')[1]))\n",
    "m.scatter(xpt, ypt, .3, color='#C70039')\n",
    "    \n",
    "# plt.title('Recorded Atlantic Hurricane Points')\n",
    "plt.savefig('scatter_hurricanes')\n",
    "plt.show()"
   ]
  },
  {
   "cell_type": "code",
   "execution_count": 112,
   "metadata": {
    "collapsed": true
   },
   "outputs": [],
   "source": [
    "# Assigning each point to a specific location in the grid. \n",
    "# For example, we will learn how a hurricane in quadrant 2 with move.\n",
    "df['gridID'] = np.zeros(total_data_count)"
   ]
  },
  {
   "cell_type": "code",
   "execution_count": null,
   "metadata": {},
   "outputs": [],
   "source": [
    "import math\n",
    "# These variable are hyperparameters\n",
    "lat_interval = round(66 - 7.2)\n",
    "long_interval = round(13.5 + 109.3)\n",
    "#df['gridID'] = (df['Lat'] - 7.200) / lat_interval + ( (df['Long'] + 109.300) * 6) / long_interval\n",
    "df['gridID'] = np.floor(df['Lat'] - 7.200)* long_interval  + np.floor(df['Long'] + 109.3)\n",
    "df['gridID'] = round(df['gridID'])\n",
    "    \n",
    "df.describe()"
   ]
  },
  {
   "cell_type": "code",
   "execution_count": null,
   "metadata": {},
   "outputs": [],
   "source": []
  },
  {
   "cell_type": "code",
   "execution_count": null,
   "metadata": {},
   "outputs": [],
   "source": [
    "df.to_csv('checkpoint-dataframe.csv') # Save the dataframe to csv for checkpoint"
   ]
  },
  {
   "cell_type": "markdown",
   "metadata": {},
   "source": [
    "### Build the Model"
   ]
  },
  {
   "cell_type": "code",
   "execution_count": 22,
   "metadata": {},
   "outputs": [
    {
     "name": "stdout",
     "output_type": "stream",
     "text": [
      "       Month  Day  Hour   Lat  Long  WindSpeed  Pressure       unique-key  \\\n",
      "116        8   13    18  22.5 -93.5       30.0      1008     BERYL-2000-5   \n",
      "117        8   14     0  22.7 -93.8       30.0      1008     BERYL-2000-5   \n",
      "5086       6   29    18  22.9 -93.6       60.0       981      ALEX-2010-1   \n",
      "7963       6   19     0  22.6 -93.4       30.0      1006    ARLENE-1993-2   \n",
      "9095      10   14     6  22.2 -93.9       60.0       981  ROXANNE-1995-19   \n",
      "9096      10   14    12  22.3 -93.8       65.0       980  ROXANNE-1995-19   \n",
      "9112      10   18    12  22.2 -94.2       35.0      1005  ROXANNE-1995-19   \n",
      "10067      8   31    18  22.4 -93.8       35.0      1002      EARL-1998-5   \n",
      "13679      9   16     0  22.5 -93.8      100.0       949   GILBERT-1988-8   \n",
      "14246     10   13    18  22.6 -93.4       50.0       995    JERRY-1989-14   \n",
      "15018      9   13     6  22.3 -94.2       45.0       998    EDITH-1971-13   \n",
      "\n",
      "        distance   direction  gridID  \n",
      "116     0.000000    0.000000  1860.0  \n",
      "117    23.610733  140.567975  1860.0  \n",
      "5086   67.002564  129.610480  1860.0  \n",
      "7963   65.098371   49.207945  1860.0  \n",
      "9095   27.645116   -0.000000  1860.0  \n",
      "9096    9.417172  325.116670  1860.0  \n",
      "9112   47.355068  106.967735  1860.0  \n",
      "10067  58.536877   85.534969  1860.0  \n",
      "13679  69.663659  107.723097  1860.0  \n",
      "14246  62.530013   19.320173  1860.0  \n",
      "15018  87.715319  107.614188  1860.0  \n"
     ]
    }
   ],
   "source": [
    "# Load the preprocessed data\n",
    "import pandas as pd\n",
    "import numpy as np\n",
    "import matplotlib.pyplot as plt\n",
    "\n",
    "df = pd.read_csv('checkpoint-dataframe.csv', index_col=0) \n",
    "print(df[df['gridID'] == 1860])"
   ]
  },
  {
   "cell_type": "code",
   "execution_count": 2,
   "metadata": {},
   "outputs": [
    {
     "data": {
      "text/html": [
       "<div>\n",
       "<style scoped>\n",
       "    .dataframe tbody tr th:only-of-type {\n",
       "        vertical-align: middle;\n",
       "    }\n",
       "\n",
       "    .dataframe tbody tr th {\n",
       "        vertical-align: top;\n",
       "    }\n",
       "\n",
       "    .dataframe thead th {\n",
       "        text-align: right;\n",
       "    }\n",
       "</style>\n",
       "<table border=\"1\" class=\"dataframe\">\n",
       "  <thead>\n",
       "    <tr style=\"text-align: right;\">\n",
       "      <th></th>\n",
       "      <th>Month</th>\n",
       "      <th>Day</th>\n",
       "      <th>Hour</th>\n",
       "      <th>Lat</th>\n",
       "      <th>Long</th>\n",
       "      <th>WindSpeed</th>\n",
       "      <th>Pressure</th>\n",
       "      <th>unique-key</th>\n",
       "      <th>distance</th>\n",
       "      <th>direction</th>\n",
       "      <th>gridID</th>\n",
       "    </tr>\n",
       "  </thead>\n",
       "  <tbody>\n",
       "    <tr>\n",
       "      <th>116</th>\n",
       "      <td>8</td>\n",
       "      <td>13</td>\n",
       "      <td>18</td>\n",
       "      <td>22.5</td>\n",
       "      <td>-93.5</td>\n",
       "      <td>30.0</td>\n",
       "      <td>1008</td>\n",
       "      <td>BERYL-2000-5</td>\n",
       "      <td>0.000000</td>\n",
       "      <td>0.000000</td>\n",
       "      <td>1860.0</td>\n",
       "    </tr>\n",
       "    <tr>\n",
       "      <th>117</th>\n",
       "      <td>8</td>\n",
       "      <td>14</td>\n",
       "      <td>0</td>\n",
       "      <td>22.7</td>\n",
       "      <td>-93.8</td>\n",
       "      <td>30.0</td>\n",
       "      <td>1008</td>\n",
       "      <td>BERYL-2000-5</td>\n",
       "      <td>23.610733</td>\n",
       "      <td>140.567975</td>\n",
       "      <td>1860.0</td>\n",
       "    </tr>\n",
       "    <tr>\n",
       "      <th>118</th>\n",
       "      <td>8</td>\n",
       "      <td>14</td>\n",
       "      <td>6</td>\n",
       "      <td>23.1</td>\n",
       "      <td>-94.6</td>\n",
       "      <td>35.0</td>\n",
       "      <td>1007</td>\n",
       "      <td>BERYL-2000-5</td>\n",
       "      <td>57.951317</td>\n",
       "      <td>161.351184</td>\n",
       "      <td>1859.0</td>\n",
       "    </tr>\n",
       "    <tr>\n",
       "      <th>119</th>\n",
       "      <td>8</td>\n",
       "      <td>14</td>\n",
       "      <td>12</td>\n",
       "      <td>23.5</td>\n",
       "      <td>-95.4</td>\n",
       "      <td>40.0</td>\n",
       "      <td>1009</td>\n",
       "      <td>BERYL-2000-5</td>\n",
       "      <td>57.818260</td>\n",
       "      <td>174.302218</td>\n",
       "      <td>1981.0</td>\n",
       "    </tr>\n",
       "    <tr>\n",
       "      <th>120</th>\n",
       "      <td>8</td>\n",
       "      <td>14</td>\n",
       "      <td>18</td>\n",
       "      <td>23.9</td>\n",
       "      <td>-96.3</td>\n",
       "      <td>45.0</td>\n",
       "      <td>1009</td>\n",
       "      <td>BERYL-2000-5</td>\n",
       "      <td>63.310039</td>\n",
       "      <td>337.250833</td>\n",
       "      <td>1981.0</td>\n",
       "    </tr>\n",
       "  </tbody>\n",
       "</table>\n",
       "</div>"
      ],
      "text/plain": [
       "     Month  Day  Hour   Lat  Long  WindSpeed  Pressure    unique-key  \\\n",
       "116      8   13    18  22.5 -93.5       30.0      1008  BERYL-2000-5   \n",
       "117      8   14     0  22.7 -93.8       30.0      1008  BERYL-2000-5   \n",
       "118      8   14     6  23.1 -94.6       35.0      1007  BERYL-2000-5   \n",
       "119      8   14    12  23.5 -95.4       40.0      1009  BERYL-2000-5   \n",
       "120      8   14    18  23.9 -96.3       45.0      1009  BERYL-2000-5   \n",
       "\n",
       "      distance   direction  gridID  \n",
       "116   0.000000    0.000000  1860.0  \n",
       "117  23.610733  140.567975  1860.0  \n",
       "118  57.951317  161.351184  1859.0  \n",
       "119  57.818260  174.302218  1981.0  \n",
       "120  63.310039  337.250833  1981.0  "
      ]
     },
     "execution_count": 2,
     "metadata": {},
     "output_type": "execute_result"
    }
   ],
   "source": [
    "df.head() # Check loaded data"
   ]
  },
  {
   "cell_type": "code",
   "execution_count": 3,
   "metadata": {},
   "outputs": [
    {
     "name": "stderr",
     "output_type": "stream",
     "text": [
      "d:\\anaconda\\envs\\tensorflow\\lib\\site-packages\\ipykernel_launcher.py:5: SettingWithCopyWarning: \n",
      "A value is trying to be set on a copy of a slice from a DataFrame.\n",
      "Try using .loc[row_indexer,col_indexer] = value instead\n",
      "\n",
      "See the caveats in the documentation: http://pandas.pydata.org/pandas-docs/stable/indexing.html#indexing-view-versus-copy\n",
      "  \"\"\"\n"
     ]
    },
    {
     "data": {
      "text/html": [
       "<div>\n",
       "<style scoped>\n",
       "    .dataframe tbody tr th:only-of-type {\n",
       "        vertical-align: middle;\n",
       "    }\n",
       "\n",
       "    .dataframe tbody tr th {\n",
       "        vertical-align: top;\n",
       "    }\n",
       "\n",
       "    .dataframe thead th {\n",
       "        text-align: right;\n",
       "    }\n",
       "</style>\n",
       "<table border=\"1\" class=\"dataframe\">\n",
       "  <thead>\n",
       "    <tr style=\"text-align: right;\">\n",
       "      <th></th>\n",
       "      <th>WindSpeed</th>\n",
       "      <th>Pressure</th>\n",
       "      <th>distance</th>\n",
       "      <th>direction</th>\n",
       "      <th>gridID</th>\n",
       "    </tr>\n",
       "  </thead>\n",
       "  <tbody>\n",
       "    <tr>\n",
       "      <th>117</th>\n",
       "      <td>30.0</td>\n",
       "      <td>1008</td>\n",
       "      <td>3.161701</td>\n",
       "      <td>4.945691</td>\n",
       "      <td>1860.0</td>\n",
       "    </tr>\n",
       "    <tr>\n",
       "      <th>118</th>\n",
       "      <td>35.0</td>\n",
       "      <td>1007</td>\n",
       "      <td>4.059603</td>\n",
       "      <td>5.083583</td>\n",
       "      <td>1859.0</td>\n",
       "    </tr>\n",
       "    <tr>\n",
       "      <th>119</th>\n",
       "      <td>40.0</td>\n",
       "      <td>1009</td>\n",
       "      <td>4.057305</td>\n",
       "      <td>5.160791</td>\n",
       "      <td>1981.0</td>\n",
       "    </tr>\n",
       "    <tr>\n",
       "      <th>120</th>\n",
       "      <td>45.0</td>\n",
       "      <td>1009</td>\n",
       "      <td>4.148044</td>\n",
       "      <td>5.820827</td>\n",
       "      <td>1981.0</td>\n",
       "    </tr>\n",
       "    <tr>\n",
       "      <th>121</th>\n",
       "      <td>45.0</td>\n",
       "      <td>1007</td>\n",
       "      <td>3.835302</td>\n",
       "      <td>5.831029</td>\n",
       "      <td>1980.0</td>\n",
       "    </tr>\n",
       "  </tbody>\n",
       "</table>\n",
       "</div>"
      ],
      "text/plain": [
       "     WindSpeed  Pressure  distance  direction  gridID\n",
       "117       30.0      1008  3.161701   4.945691  1860.0\n",
       "118       35.0      1007  4.059603   5.083583  1859.0\n",
       "119       40.0      1009  4.057305   5.160791  1981.0\n",
       "120       45.0      1009  4.148044   5.820827  1981.0\n",
       "121       45.0      1007  3.835302   5.831029  1980.0"
      ]
     },
     "execution_count": 3,
     "metadata": {},
     "output_type": "execute_result"
    }
   ],
   "source": [
    "df.drop(['Month', 'Day', 'Hour', 'Lat', 'Long', 'unique-key'], axis = 1, inplace = True)\n",
    "temp_df = df\n",
    "\n",
    "temp_df = temp_df[temp_df['distance'] > 0]\n",
    "temp_df['distance'] = np.log(temp_df['distance'])\n",
    "\n",
    "temp_df = temp_df[temp_df['direction'] > 0]\n",
    "temp_df['direction'] = np.log(temp_df['direction'])\n",
    "\n",
    "temp_df.head()"
   ]
  },
  {
   "cell_type": "code",
   "execution_count": 4,
   "metadata": {},
   "outputs": [
    {
     "data": {
      "text/plain": [
       "7256.0"
      ]
     },
     "execution_count": 4,
     "metadata": {},
     "output_type": "execute_result"
    }
   ],
   "source": [
    "max(temp_df['gridID']) # Total grid spots"
   ]
  },
  {
   "cell_type": "code",
   "execution_count": 5,
   "metadata": {},
   "outputs": [
    {
     "name": "stderr",
     "output_type": "stream",
     "text": [
      "d:\\anaconda\\envs\\tensorflow\\lib\\site-packages\\ipykernel_launcher.py:6: FutureWarning: reshape is deprecated and will raise in a subsequent release. Please use .values.reshape(...) instead\n",
      "  \n"
     ]
    },
    {
     "data": {
      "text/html": [
       "<div>\n",
       "<style scoped>\n",
       "    .dataframe tbody tr th:only-of-type {\n",
       "        vertical-align: middle;\n",
       "    }\n",
       "\n",
       "    .dataframe tbody tr th {\n",
       "        vertical-align: top;\n",
       "    }\n",
       "\n",
       "    .dataframe thead th {\n",
       "        text-align: right;\n",
       "    }\n",
       "</style>\n",
       "<table border=\"1\" class=\"dataframe\">\n",
       "  <thead>\n",
       "    <tr style=\"text-align: right;\">\n",
       "      <th></th>\n",
       "      <th>WindSpeed</th>\n",
       "      <th>Pressure</th>\n",
       "      <th>Distance</th>\n",
       "      <th>Direction</th>\n",
       "      <th>gridID</th>\n",
       "    </tr>\n",
       "  </thead>\n",
       "  <tbody>\n",
       "    <tr>\n",
       "      <th>0</th>\n",
       "      <td>0.129032</td>\n",
       "      <td>0.887324</td>\n",
       "      <td>0.255821</td>\n",
       "      <td>0.898258</td>\n",
       "      <td>0.249722</td>\n",
       "    </tr>\n",
       "    <tr>\n",
       "      <th>1</th>\n",
       "      <td>0.161290</td>\n",
       "      <td>0.880282</td>\n",
       "      <td>0.410657</td>\n",
       "      <td>0.913179</td>\n",
       "      <td>0.249583</td>\n",
       "    </tr>\n",
       "    <tr>\n",
       "      <th>2</th>\n",
       "      <td>0.193548</td>\n",
       "      <td>0.894366</td>\n",
       "      <td>0.410261</td>\n",
       "      <td>0.921533</td>\n",
       "      <td>0.266546</td>\n",
       "    </tr>\n",
       "    <tr>\n",
       "      <th>3</th>\n",
       "      <td>0.225806</td>\n",
       "      <td>0.894366</td>\n",
       "      <td>0.425908</td>\n",
       "      <td>0.992955</td>\n",
       "      <td>0.266546</td>\n",
       "    </tr>\n",
       "    <tr>\n",
       "      <th>4</th>\n",
       "      <td>0.225806</td>\n",
       "      <td>0.880282</td>\n",
       "      <td>0.371978</td>\n",
       "      <td>0.994059</td>\n",
       "      <td>0.266407</td>\n",
       "    </tr>\n",
       "  </tbody>\n",
       "</table>\n",
       "</div>"
      ],
      "text/plain": [
       "   WindSpeed  Pressure  Distance  Direction    gridID\n",
       "0   0.129032  0.887324  0.255821   0.898258  0.249722\n",
       "1   0.161290  0.880282  0.410657   0.913179  0.249583\n",
       "2   0.193548  0.894366  0.410261   0.921533  0.266546\n",
       "3   0.225806  0.894366  0.425908   0.992955  0.266546\n",
       "4   0.225806  0.880282  0.371978   0.994059  0.266407"
      ]
     },
     "execution_count": 5,
     "metadata": {},
     "output_type": "execute_result"
    }
   ],
   "source": [
    "from sklearn.preprocessing import MinMaxScaler\n",
    "\n",
    "# Normalize the values to predict them more easily in our model\n",
    "scaler = MinMaxScaler(feature_range=(0, 1))\n",
    "gridScaler = MinMaxScaler(feature_range=(0,1))\n",
    "gridScaler.fit_transform(temp_df['gridID'].reshape(-1,1))\n",
    "temp_df = pd.DataFrame(scaler.fit_transform(temp_df), columns=['WindSpeed', 'Pressure', 'Distance', 'Direction', 'gridID'])\n",
    "temp_df.head()"
   ]
  },
  {
   "cell_type": "code",
   "execution_count": 6,
   "metadata": {},
   "outputs": [],
   "source": [
    "def load_data(stock, seq_len):\n",
    "    amount_of_features = len(stock.columns)\n",
    "    data = stock.as_matrix() \n",
    "    sequence_length = seq_len + 1 # Because index starts at 0\n",
    "    result = []\n",
    "    \n",
    "    for index in range(len(data) - sequence_length):\n",
    "        result.append(data[index: index + sequence_length])\n",
    "    \n",
    "    result = np.array(result)\n",
    "    row = len(result) * 0.85 # Amount of data to train on    \n",
    "    train = result[:int(row), :]\n",
    "    x_train = train[:, :-1]\n",
    "    y_train = train[:, -1][:,-1]\n",
    "    x_test = result[int(row):, :-1]\n",
    "    y_test = result[int(row):, -1][:,-1]\n",
    "\n",
    "    x_train = np.reshape(x_train, (x_train.shape[0], x_train.shape[1], amount_of_features))\n",
    "    x_test = np.reshape(x_test, (x_test.shape[0], x_test.shape[1], amount_of_features))  \n",
    "\n",
    "    return [x_train, y_train, x_test, y_test]"
   ]
  },
  {
   "cell_type": "code",
   "execution_count": 7,
   "metadata": {},
   "outputs": [
    {
     "name": "stderr",
     "output_type": "stream",
     "text": [
      "d:\\anaconda\\envs\\tensorflow\\lib\\site-packages\\h5py\\__init__.py:36: FutureWarning: Conversion of the second argument of issubdtype from `float` to `np.floating` is deprecated. In future, it will be treated as `np.float64 == np.dtype(float).type`.\n",
      "  from ._conv import register_converters as _register_converters\n",
      "Using TensorFlow backend.\n"
     ]
    }
   ],
   "source": [
    "from keras.models import Sequential\n",
    "from keras.layers.core import Dense, Dropout, Activation\n",
    "from keras.layers.recurrent import LSTM\n",
    "import math, time\n",
    "\n",
    "def build_model(layers):\n",
    "    model = Sequential()\n",
    "\n",
    "    for x in range(0,2):\n",
    "        model.add(LSTM(input_dim=layers[0], output_dim=layers[1], return_sequences=True))\n",
    "        model.add(Dropout(0.2))\n",
    "\n",
    "    model.add(LSTM(layers[2], return_sequences=False)) \n",
    "    model.add(Dropout(0.2))\n",
    "\n",
    "    model.add(Dense(output_dim=layers[2]))\n",
    "    model.add(Activation(\"relu\"))\n",
    "\n",
    "    start = time.time()\n",
    "    model.compile(loss=\"mse\", optimizer=\"rmsprop\",metrics=['accuracy'])\n",
    "    print(\"Compilation Time : \", time.time() - start)\n",
    "    return model"
   ]
  },
  {
   "cell_type": "markdown",
   "metadata": {},
   "source": [
    "### Train the Model"
   ]
  },
  {
   "cell_type": "code",
   "execution_count": 8,
   "metadata": {
    "scrolled": true
   },
   "outputs": [
    {
     "name": "stdout",
     "output_type": "stream",
     "text": [
      "X_train (10441, 14, 5)\n",
      "y_train (10441,)\n",
      "X_test (1843, 14, 5)\n",
      "y_test (1843,)\n"
     ]
    }
   ],
   "source": [
    "window = 14 # Another hyperparameter\n",
    "X_train, y_train, X_test, y_test = load_data(temp_df[::-1], window)\n",
    "print(\"X_train\", X_train.shape)\n",
    "print(\"y_train\", y_train.shape)\n",
    "print(\"X_test\", X_test.shape)\n",
    "print(\"y_test\", y_test.shape)"
   ]
  },
  {
   "cell_type": "code",
   "execution_count": 9,
   "metadata": {},
   "outputs": [
    {
     "name": "stderr",
     "output_type": "stream",
     "text": [
      "d:\\anaconda\\envs\\tensorflow\\lib\\site-packages\\ipykernel_launcher.py:10: UserWarning: The `input_dim` and `input_length` arguments in recurrent layers are deprecated. Use `input_shape` instead.\n",
      "  # Remove the CWD from sys.path while we load stuff.\n",
      "d:\\anaconda\\envs\\tensorflow\\lib\\site-packages\\ipykernel_launcher.py:10: UserWarning: Update your `LSTM` call to the Keras 2 API: `LSTM(return_sequences=True, input_shape=(None, 5), units=14)`\n",
      "  # Remove the CWD from sys.path while we load stuff.\n"
     ]
    },
    {
     "name": "stdout",
     "output_type": "stream",
     "text": [
      "Compilation Time :  0.030079364776611328\n"
     ]
    },
    {
     "name": "stderr",
     "output_type": "stream",
     "text": [
      "d:\\anaconda\\envs\\tensorflow\\lib\\site-packages\\ipykernel_launcher.py:16: UserWarning: Update your `Dense` call to the Keras 2 API: `Dense(units=1)`\n",
      "  app.launch_new_instance()\n"
     ]
    }
   ],
   "source": [
    "model = build_model([5, window, 1])"
   ]
  },
  {
   "cell_type": "code",
   "execution_count": 10,
   "metadata": {
    "scrolled": true
   },
   "outputs": [
    {
     "name": "stdout",
     "output_type": "stream",
     "text": [
      "Train on 9396 samples, validate on 1045 samples\n",
      "Epoch 1/100\n",
      "9396/9396 [==============================] - 12s 1ms/step - loss: 0.0642 - acc: 1.0643e-04 - val_loss: 0.0362 - val_acc: 0.0000e+00\n",
      "Epoch 2/100\n",
      "9396/9396 [==============================] - 2s 208us/step - loss: 0.0439 - acc: 1.0643e-04 - val_loss: 0.0302 - val_acc: 0.0000e+00\n",
      "Epoch 3/100\n",
      "9396/9396 [==============================] - 2s 203us/step - loss: 0.0393 - acc: 1.0643e-04 - val_loss: 0.0285 - val_acc: 0.0000e+00\n",
      "Epoch 4/100\n",
      "9396/9396 [==============================] - 2s 200us/step - loss: 0.0366 - acc: 1.0643e-04 - val_loss: 0.0214 - val_acc: 0.0000e+00\n",
      "Epoch 5/100\n",
      "9396/9396 [==============================] - 2s 192us/step - loss: 0.0334 - acc: 1.0643e-04 - val_loss: 0.0212 - val_acc: 0.0000e+00\n",
      "Epoch 6/100\n",
      "9396/9396 [==============================] - 2s 192us/step - loss: 0.0306 - acc: 1.0643e-04 - val_loss: 0.0203 - val_acc: 0.0000e+00\n",
      "Epoch 7/100\n",
      "9396/9396 [==============================] - 2s 192us/step - loss: 0.0285 - acc: 1.0643e-04 - val_loss: 0.0172 - val_acc: 0.0000e+00\n",
      "Epoch 8/100\n",
      "9396/9396 [==============================] - 2s 193us/step - loss: 0.0265 - acc: 1.0643e-04 - val_loss: 0.0158 - val_acc: 0.0000e+00\n",
      "Epoch 9/100\n",
      "9396/9396 [==============================] - 2s 191us/step - loss: 0.0241 - acc: 1.0643e-04 - val_loss: 0.0147 - val_acc: 0.0000e+00\n",
      "Epoch 10/100\n",
      "9396/9396 [==============================] - 2s 194us/step - loss: 0.0230 - acc: 1.0643e-04 - val_loss: 0.0136 - val_acc: 0.0000e+00\n",
      "Epoch 11/100\n",
      "9396/9396 [==============================] - 2s 194us/step - loss: 0.0210 - acc: 1.0643e-04 - val_loss: 0.0131 - val_acc: 0.0000e+00\n",
      "Epoch 12/100\n",
      "9396/9396 [==============================] - 2s 193us/step - loss: 0.0203 - acc: 1.0643e-04 - val_loss: 0.0156 - val_acc: 0.0000e+00\n",
      "Epoch 13/100\n",
      "9396/9396 [==============================] - 2s 193us/step - loss: 0.0190 - acc: 1.0643e-04 - val_loss: 0.0138 - val_acc: 0.0000e+00\n",
      "Epoch 14/100\n",
      "9396/9396 [==============================] - 2s 193us/step - loss: 0.0179 - acc: 1.0643e-04 - val_loss: 0.0111 - val_acc: 0.0000e+00\n",
      "Epoch 15/100\n",
      "9396/9396 [==============================] - 2s 192us/step - loss: 0.0165 - acc: 1.0643e-04 - val_loss: 0.0108 - val_acc: 0.0000e+00\n",
      "Epoch 16/100\n",
      "9396/9396 [==============================] - 2s 194us/step - loss: 0.0161 - acc: 1.0643e-04 - val_loss: 0.0102 - val_acc: 0.0000e+00\n",
      "Epoch 17/100\n",
      "9396/9396 [==============================] - 2s 195us/step - loss: 0.0157 - acc: 1.0643e-04 - val_loss: 0.0102 - val_acc: 0.0000e+00\n",
      "Epoch 18/100\n",
      "9396/9396 [==============================] - 2s 194us/step - loss: 0.0147 - acc: 1.0643e-04 - val_loss: 0.0099 - val_acc: 0.0000e+00\n",
      "Epoch 19/100\n",
      "9396/9396 [==============================] - 2s 197us/step - loss: 0.0139 - acc: 1.0643e-04 - val_loss: 0.0104 - val_acc: 0.0000e+00\n",
      "Epoch 20/100\n",
      "9396/9396 [==============================] - 2s 208us/step - loss: 0.0139 - acc: 1.0643e-04 - val_loss: 0.0094 - val_acc: 0.0000e+00\n",
      "Epoch 21/100\n",
      "9396/9396 [==============================] - 2s 208us/step - loss: 0.0138 - acc: 1.0643e-04 - val_loss: 0.0095 - val_acc: 0.0000e+00\n",
      "Epoch 22/100\n",
      "9396/9396 [==============================] - 2s 206us/step - loss: 0.0131 - acc: 1.0643e-04 - val_loss: 0.0088 - val_acc: 0.0000e+00\n",
      "Epoch 23/100\n",
      "9396/9396 [==============================] - 2s 205us/step - loss: 0.0127 - acc: 1.0643e-04 - val_loss: 0.0079 - val_acc: 0.0000e+00\n",
      "Epoch 24/100\n",
      "9396/9396 [==============================] - 2s 206us/step - loss: 0.0126 - acc: 1.0643e-04 - val_loss: 0.0075 - val_acc: 0.0000e+00\n",
      "Epoch 25/100\n",
      "9396/9396 [==============================] - 2s 206us/step - loss: 0.0123 - acc: 1.0643e-04 - val_loss: 0.0077 - val_acc: 0.0000e+00\n",
      "Epoch 26/100\n",
      "9396/9396 [==============================] - 2s 206us/step - loss: 0.0120 - acc: 1.0643e-04 - val_loss: 0.0074 - val_acc: 0.0000e+00\n",
      "Epoch 27/100\n",
      "9396/9396 [==============================] - 2s 203us/step - loss: 0.0123 - acc: 1.0643e-04 - val_loss: 0.0075 - val_acc: 0.0000e+00\n",
      "Epoch 28/100\n",
      "9396/9396 [==============================] - 2s 200us/step - loss: 0.0120 - acc: 1.0643e-04 - val_loss: 0.0082 - val_acc: 0.0000e+00\n",
      "Epoch 29/100\n",
      "9396/9396 [==============================] - 2s 203us/step - loss: 0.0116 - acc: 1.0643e-04 - val_loss: 0.0078 - val_acc: 0.0000e+00\n",
      "Epoch 30/100\n",
      "9396/9396 [==============================] - 2s 201us/step - loss: 0.0115 - acc: 1.0643e-04 - val_loss: 0.0077 - val_acc: 0.0000e+00\n",
      "Epoch 31/100\n",
      "9396/9396 [==============================] - 2s 200us/step - loss: 0.0114 - acc: 1.0643e-04 - val_loss: 0.0066 - val_acc: 0.0000e+00\n",
      "Epoch 32/100\n",
      "9396/9396 [==============================] - 2s 201us/step - loss: 0.0115 - acc: 1.0643e-04 - val_loss: 0.0066 - val_acc: 0.0000e+00\n",
      "Epoch 33/100\n",
      "9396/9396 [==============================] - 2s 203us/step - loss: 0.0114 - acc: 1.0643e-04 - val_loss: 0.0068 - val_acc: 0.0000e+00\n",
      "Epoch 34/100\n",
      "9396/9396 [==============================] - 2s 202us/step - loss: 0.0113 - acc: 1.0643e-04 - val_loss: 0.0070 - val_acc: 0.0000e+00\n",
      "Epoch 35/100\n",
      "9396/9396 [==============================] - 2s 199us/step - loss: 0.0111 - acc: 1.0643e-04 - val_loss: 0.0067 - val_acc: 0.0000e+00\n",
      "Epoch 36/100\n",
      "9396/9396 [==============================] - 2s 202us/step - loss: 0.0115 - acc: 1.0643e-04 - val_loss: 0.0070 - val_acc: 0.0000e+00\n",
      "Epoch 37/100\n",
      "9396/9396 [==============================] - 2s 201us/step - loss: 0.0111 - acc: 1.0643e-04 - val_loss: 0.0068 - val_acc: 0.0000e+00\n",
      "Epoch 38/100\n",
      "9396/9396 [==============================] - 2s 201us/step - loss: 0.0108 - acc: 1.0643e-04 - val_loss: 0.0060 - val_acc: 0.0000e+00\n",
      "Epoch 39/100\n",
      "9396/9396 [==============================] - 2s 201us/step - loss: 0.0113 - acc: 1.0643e-04 - val_loss: 0.0064 - val_acc: 0.0000e+00\n",
      "Epoch 40/100\n",
      "9396/9396 [==============================] - 2s 206us/step - loss: 0.0108 - acc: 1.0643e-04 - val_loss: 0.0065 - val_acc: 0.0000e+00\n",
      "Epoch 41/100\n",
      "9396/9396 [==============================] - 2s 202us/step - loss: 0.0110 - acc: 1.0643e-04 - val_loss: 0.0061 - val_acc: 0.0000e+00\n",
      "Epoch 42/100\n",
      "9396/9396 [==============================] - 2s 199us/step - loss: 0.0109 - acc: 1.0643e-04 - val_loss: 0.0062 - val_acc: 0.0000e+00\n",
      "Epoch 43/100\n",
      "9396/9396 [==============================] - 2s 202us/step - loss: 0.0112 - acc: 1.0643e-04 - val_loss: 0.0063 - val_acc: 0.0000e+00\n",
      "Epoch 44/100\n",
      "9396/9396 [==============================] - 2s 201us/step - loss: 0.0109 - acc: 1.0643e-04 - val_loss: 0.0062 - val_acc: 0.0000e+00\n",
      "Epoch 45/100\n",
      "9396/9396 [==============================] - 2s 203us/step - loss: 0.0107 - acc: 1.0643e-04 - val_loss: 0.0059 - val_acc: 0.0000e+00\n",
      "Epoch 46/100\n",
      "9396/9396 [==============================] - 2s 204us/step - loss: 0.0104 - acc: 1.0643e-04 - val_loss: 0.0064 - val_acc: 0.0000e+00\n",
      "Epoch 47/100\n",
      "9396/9396 [==============================] - 2s 201us/step - loss: 0.0107 - acc: 1.0643e-04 - val_loss: 0.0062 - val_acc: 0.0000e+00\n",
      "Epoch 48/100\n",
      "9396/9396 [==============================] - 2s 203us/step - loss: 0.0103 - acc: 1.0643e-04 - val_loss: 0.0060 - val_acc: 0.0000e+00\n",
      "Epoch 49/100\n",
      "9396/9396 [==============================] - 2s 201us/step - loss: 0.0109 - acc: 1.0643e-04 - val_loss: 0.0059 - val_acc: 0.0000e+00\n",
      "Epoch 50/100\n",
      "9396/9396 [==============================] - 2s 202us/step - loss: 0.0107 - acc: 1.0643e-04 - val_loss: 0.0056 - val_acc: 0.0000e+00\n",
      "Epoch 51/100\n",
      "9396/9396 [==============================] - 2s 205us/step - loss: 0.0111 - acc: 1.0643e-04 - val_loss: 0.0061 - val_acc: 0.0000e+00\n",
      "Epoch 52/100\n",
      "9396/9396 [==============================] - 2s 201us/step - loss: 0.0107 - acc: 1.0643e-04 - val_loss: 0.0060 - val_acc: 0.0000e+00\n",
      "Epoch 53/100\n",
      "9396/9396 [==============================] - 2s 202us/step - loss: 0.0107 - acc: 1.0643e-04 - val_loss: 0.0066 - val_acc: 0.0000e+00\n",
      "Epoch 54/100\n",
      "9396/9396 [==============================] - 2s 198us/step - loss: 0.0101 - acc: 1.0643e-04 - val_loss: 0.0056 - val_acc: 0.0000e+00\n",
      "Epoch 55/100\n",
      "9396/9396 [==============================] - 2s 203us/step - loss: 0.0105 - acc: 1.0643e-04 - val_loss: 0.0061 - val_acc: 0.0000e+00\n",
      "Epoch 56/100\n",
      "9396/9396 [==============================] - 2s 205us/step - loss: 0.0106 - acc: 1.0643e-04 - val_loss: 0.0064 - val_acc: 0.0000e+00\n"
     ]
    },
    {
     "name": "stdout",
     "output_type": "stream",
     "text": [
      "Epoch 57/100\n",
      "9396/9396 [==============================] - 2s 201us/step - loss: 0.0107 - acc: 1.0643e-04 - val_loss: 0.0059 - val_acc: 0.0000e+00\n",
      "Epoch 58/100\n",
      "9396/9396 [==============================] - 2s 199us/step - loss: 0.0103 - acc: 1.0643e-04 - val_loss: 0.0060 - val_acc: 0.0000e+00\n",
      "Epoch 59/100\n",
      "9396/9396 [==============================] - 2s 201us/step - loss: 0.0105 - acc: 1.0643e-04 - val_loss: 0.0066 - val_acc: 0.0000e+00\n",
      "Epoch 60/100\n",
      "9396/9396 [==============================] - 2s 212us/step - loss: 0.0104 - acc: 1.0643e-04 - val_loss: 0.0059 - val_acc: 0.0000e+00\n",
      "Epoch 61/100\n",
      "9396/9396 [==============================] - 2s 208us/step - loss: 0.0103 - acc: 1.0643e-04 - val_loss: 0.0056 - val_acc: 0.0000e+00\n",
      "Epoch 62/100\n",
      "9396/9396 [==============================] - 2s 207us/step - loss: 0.0105 - acc: 1.0643e-04 - val_loss: 0.0062 - val_acc: 0.0000e+00\n",
      "Epoch 63/100\n",
      "9396/9396 [==============================] - 2s 198us/step - loss: 0.0104 - acc: 1.0643e-04 - val_loss: 0.0062 - val_acc: 0.0000e+00\n",
      "Epoch 64/100\n",
      "9396/9396 [==============================] - 2s 196us/step - loss: 0.0103 - acc: 1.0643e-04 - val_loss: 0.0057 - val_acc: 0.0000e+00\n",
      "Epoch 65/100\n",
      "9396/9396 [==============================] - 2s 194us/step - loss: 0.0103 - acc: 1.0643e-04 - val_loss: 0.0057 - val_acc: 0.0000e+00\n",
      "Epoch 66/100\n",
      "9396/9396 [==============================] - 2s 196us/step - loss: 0.0104 - acc: 1.0643e-04 - val_loss: 0.0055 - val_acc: 0.0000e+00\n",
      "Epoch 67/100\n",
      "9396/9396 [==============================] - 2s 197us/step - loss: 0.0106 - acc: 1.0643e-04 - val_loss: 0.0056 - val_acc: 0.0000e+00\n",
      "Epoch 68/100\n",
      "9396/9396 [==============================] - 2s 200us/step - loss: 0.0106 - acc: 1.0643e-04 - val_loss: 0.0058 - val_acc: 0.0000e+00\n",
      "Epoch 69/100\n",
      "9396/9396 [==============================] - 2s 193us/step - loss: 0.0103 - acc: 1.0643e-04 - val_loss: 0.0054 - val_acc: 0.0000e+00\n",
      "Epoch 70/100\n",
      "9396/9396 [==============================] - 2s 200us/step - loss: 0.0102 - acc: 1.0643e-04 - val_loss: 0.0056 - val_acc: 0.0000e+00\n",
      "Epoch 71/100\n",
      "9396/9396 [==============================] - 2s 198us/step - loss: 0.0103 - acc: 1.0643e-04 - val_loss: 0.0057 - val_acc: 0.0000e+00\n",
      "Epoch 72/100\n",
      "9396/9396 [==============================] - 2s 199us/step - loss: 0.0104 - acc: 1.0643e-04 - val_loss: 0.0061 - val_acc: 0.0000e+00\n",
      "Epoch 73/100\n",
      "9396/9396 [==============================] - 2s 195us/step - loss: 0.0103 - acc: 1.0643e-04 - val_loss: 0.0058 - val_acc: 0.0000e+00\n",
      "Epoch 74/100\n",
      "9396/9396 [==============================] - 2s 196us/step - loss: 0.0102 - acc: 1.0643e-04 - val_loss: 0.0063 - val_acc: 0.0000e+00\n",
      "Epoch 75/100\n",
      "9396/9396 [==============================] - 2s 198us/step - loss: 0.0105 - acc: 1.0643e-04 - val_loss: 0.0060 - val_acc: 0.0000e+00\n",
      "Epoch 76/100\n",
      "9396/9396 [==============================] - 2s 195us/step - loss: 0.0103 - acc: 1.0643e-04 - val_loss: 0.0057 - val_acc: 0.0000e+00\n",
      "Epoch 77/100\n",
      "9396/9396 [==============================] - 2s 195us/step - loss: 0.0100 - acc: 1.0643e-04 - val_loss: 0.0061 - val_acc: 0.0000e+00\n",
      "Epoch 78/100\n",
      "9396/9396 [==============================] - 2s 197us/step - loss: 0.0103 - acc: 1.0643e-04 - val_loss: 0.0055 - val_acc: 0.0000e+00\n",
      "Epoch 79/100\n",
      "9396/9396 [==============================] - 2s 195us/step - loss: 0.0104 - acc: 1.0643e-04 - val_loss: 0.0058 - val_acc: 0.0000e+00\n",
      "Epoch 80/100\n",
      "9396/9396 [==============================] - 2s 198us/step - loss: 0.0104 - acc: 1.0643e-04 - val_loss: 0.0063 - val_acc: 0.0000e+00\n",
      "Epoch 81/100\n",
      "9396/9396 [==============================] - 2s 199us/step - loss: 0.0103 - acc: 1.0643e-04 - val_loss: 0.0055 - val_acc: 0.0000e+00\n",
      "Epoch 82/100\n",
      "9396/9396 [==============================] - 2s 196us/step - loss: 0.0103 - acc: 1.0643e-04 - val_loss: 0.0056 - val_acc: 0.0000e+00\n",
      "Epoch 83/100\n",
      "9396/9396 [==============================] - 2s 198us/step - loss: 0.0103 - acc: 1.0643e-04 - val_loss: 0.0059 - val_acc: 0.0000e+00\n",
      "Epoch 84/100\n",
      "9396/9396 [==============================] - 2s 195us/step - loss: 0.0104 - acc: 1.0643e-04 - val_loss: 0.0062 - val_acc: 0.0000e+00\n",
      "Epoch 85/100\n",
      "9396/9396 [==============================] - 2s 198us/step - loss: 0.0108 - acc: 1.0643e-04 - val_loss: 0.0057 - val_acc: 0.0000e+00\n",
      "Epoch 86/100\n",
      "9396/9396 [==============================] - 2s 195us/step - loss: 0.0105 - acc: 1.0643e-04 - val_loss: 0.0056 - val_acc: 0.0000e+00\n",
      "Epoch 87/100\n",
      "9396/9396 [==============================] - 2s 197us/step - loss: 0.0104 - acc: 1.0643e-04 - val_loss: 0.0058 - val_acc: 0.0000e+00\n",
      "Epoch 88/100\n",
      "9396/9396 [==============================] - 2s 203us/step - loss: 0.0100 - acc: 1.0643e-04 - val_loss: 0.0053 - val_acc: 0.0000e+00\n",
      "Epoch 89/100\n",
      "9396/9396 [==============================] - 2s 204us/step - loss: 0.0105 - acc: 1.0643e-04 - val_loss: 0.0061 - val_acc: 0.0000e+00\n",
      "Epoch 90/100\n",
      "9396/9396 [==============================] - 2s 192us/step - loss: 0.0104 - acc: 1.0643e-04 - val_loss: 0.0058 - val_acc: 0.0000e+00\n",
      "Epoch 91/100\n",
      "9396/9396 [==============================] - 2s 204us/step - loss: 0.0102 - acc: 1.0643e-04 - val_loss: 0.0058 - val_acc: 0.0000e+00\n",
      "Epoch 92/100\n",
      "9396/9396 [==============================] - 2s 206us/step - loss: 0.0102 - acc: 1.0643e-04 - val_loss: 0.0054 - val_acc: 0.0000e+00\n",
      "Epoch 93/100\n",
      "9396/9396 [==============================] - 2s 207us/step - loss: 0.0100 - acc: 1.0643e-04 - val_loss: 0.0060 - val_acc: 0.0000e+00\n",
      "Epoch 94/100\n",
      "9396/9396 [==============================] - 2s 196us/step - loss: 0.0103 - acc: 1.0643e-04 - val_loss: 0.0057 - val_acc: 0.0000e+00\n",
      "Epoch 95/100\n",
      "9396/9396 [==============================] - 2s 196us/step - loss: 0.0100 - acc: 1.0643e-04 - val_loss: 0.0063 - val_acc: 0.0000e+00\n",
      "Epoch 96/100\n",
      "9396/9396 [==============================] - 2s 197us/step - loss: 0.0103 - acc: 1.0643e-04 - val_loss: 0.0059 - val_acc: 0.0000e+00\n",
      "Epoch 97/100\n",
      "9396/9396 [==============================] - 2s 196us/step - loss: 0.0103 - acc: 1.0643e-04 - val_loss: 0.0058 - val_acc: 0.0000e+00\n",
      "Epoch 98/100\n",
      "9396/9396 [==============================] - 2s 195us/step - loss: 0.0102 - acc: 1.0643e-04 - val_loss: 0.0062 - val_acc: 0.0000e+00\n",
      "Epoch 99/100\n",
      "9396/9396 [==============================] - 2s 197us/step - loss: 0.0100 - acc: 1.0643e-04 - val_loss: 0.0055 - val_acc: 0.0000e+00\n",
      "Epoch 100/100\n",
      "9396/9396 [==============================] - 2s 216us/step - loss: 0.0104 - acc: 1.0643e-04 - val_loss: 0.0063 - val_acc: 0.0000e+00\n"
     ]
    },
    {
     "data": {
      "text/plain": [
       "<keras.callbacks.History at 0x1ef847c7cf8>"
      ]
     },
     "execution_count": 10,
     "metadata": {},
     "output_type": "execute_result"
    }
   ],
   "source": [
    "model.fit(X_train, y_train, batch_size=512, epochs=100, validation_split=0.1, verbose=1)"
   ]
  },
  {
   "cell_type": "code",
   "execution_count": 11,
   "metadata": {},
   "outputs": [
    {
     "name": "stdout",
     "output_type": "stream",
     "text": [
      "Train Score: 0.01 MSE (0.08 RMSE)\n",
      "Test Score: 0.01 MSE (0.09 RMSE)\n"
     ]
    }
   ],
   "source": [
    "trainScore = model.evaluate(X_train, y_train, verbose=0)\n",
    "print('Train Score: %.2f MSE (%.2f RMSE)' % (trainScore[0], math.sqrt(trainScore[0])))\n",
    "\n",
    "testScore = model.evaluate(X_test, y_test, verbose=0)\n",
    "print('Test Score: %.2f MSE (%.2f RMSE)' % (testScore[0], math.sqrt(testScore[0])))"
   ]
  },
  {
   "cell_type": "code",
   "execution_count": 67,
   "metadata": {},
   "outputs": [
    {
     "name": "stdout",
     "output_type": "stream",
     "text": [
      "Saved model to disk\n"
     ]
    }
   ],
   "source": [
    "#SAVING MODEL\n",
    "from keras.models import model_from_json\n",
    "# serialize model to JSON\n",
    "model_json = model.to_json()\n",
    "with open(\"model.json\", \"w\") as json_file:\n",
    "    json_file.write(model_json)\n",
    "# serialize weights to HDF5\n",
    "model.save_weights(\"model.h5\")\n",
    "print(\"Saved model to disk\")"
   ]
  },
  {
   "cell_type": "markdown",
   "metadata": {},
   "source": [
    "### Predicting Hurricane Trajectory"
   ]
  },
  {
   "cell_type": "code",
   "execution_count": 68,
   "metadata": {},
   "outputs": [
    {
     "name": "stdout",
     "output_type": "stream",
     "text": [
      "Loaded model from disk\n"
     ]
    }
   ],
   "source": [
    "from keras.models import model_from_json\n",
    "\n",
    "# load json and create model\n",
    "json_file = open('model.json', 'r')\n",
    "loaded_model_json = json_file.read()\n",
    "json_file.close()\n",
    "loaded_model = model_from_json(loaded_model_json)\n",
    "# load weights into new model\n",
    "loaded_model.load_weights(\"model.h5\")\n",
    "print(\"Loaded model from disk\")\n",
    " \n",
    "# evaluate loaded model on test data\n",
    "#loaded_model.compile(loss='mse', optimizer='rmsprop', metrics=['accuracy'])\n",
    "#score = loaded_model.evaluate(X, Y, verbose=0)\n",
    "#print(\"%s: %.2f%%\" % (loaded_model.metrics_names[1], score[1]*100))"
   ]
  },
  {
   "cell_type": "code",
   "execution_count": 69,
   "metadata": {},
   "outputs": [],
   "source": [
    "pred = model.predict(X_test)"
   ]
  },
  {
   "cell_type": "code",
   "execution_count": 70,
   "metadata": {},
   "outputs": [
    {
     "data": {
      "image/png": "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\n",
      "text/plain": [
       "<matplotlib.figure.Figure at 0x1efffefeac8>"
      ]
     },
     "metadata": {},
     "output_type": "display_data"
    }
   ],
   "source": [
<<<<<<< HEAD
    "plt.figure(figsize=(15, 4), dpi=100)\n",
    "plt.plot(gridScaler.inverse_transform(pred)[:1850], linewidth=1, color='red', label='Prediction Grid Locations')\n",
    "plt.plot(gridScaler.inverse_transform(y_test.reshape(-1,1))[:1850], color='blue', label='Real Grid Locations')\n",
    "plt.legend(loc='upper left')\n",
=======
    "n = 1\n",
    "denormalized = scaler.inverse_transform(pred)\n",
    "print(denormalized)\n",
>>>>>>> 8c1ed1ea42414a8b373ddc14f5348d36e1461f37
    "\n",
    "for x in np.random.choice(total_hurricane_count, n):\n",
    "    hurr = data[data['unique-key'] == keys[x][1]]\n",
    "    lat = hurr['Lat'].values\n",
    "    long = hurr['Long'].values\n",
    "    \n",
    "    plt.figure(figsize=(15, 4), dpi=100)\n",
    "    plt.plot(denormalized, linewidth=1, color='red', label='Prediction Grid Locations')\n",
    "    plt.plot(y_train, color='blue', label='Real Grid Locations')\n",
    "    plt.legend(loc='upper left')\n",
    "    \n",
    "plt.savefig('grid_accuracy.png')\n",
    "plt.show()"
   ]
  },
  {
   "cell_type": "code",
   "execution_count": 52,
   "metadata": {},
   "outputs": [
    {
     "data": {
      "text/plain": [
       "(-93.8, 22.7)"
      ]
     },
     "execution_count": 52,
     "metadata": {},
     "output_type": "execute_result"
    }
   ],
   "source": [
    "import math\n",
    "\n",
    "lat_min = 7.2\n",
    "long_min = -109.3\n",
    "lat_interval = round(66 - 7.2)\n",
    "long_interval = round(13.5 + 109.3)\n",
    "\n",
    "def grid2coord(grid):\n",
    "    y = np.floor(grid / long_interval)#y_coord\n",
    "    x = np.floor(grid - y*long_interval)#x_coord\n",
    "    #x and y represent the bottom left corner of the grid\n",
    "    return (x+0.5 + long_min, y+0.5 + lat_min)\n",
    "\n",
    "grid2coord(1860)"
   ]
  },
  {
   "cell_type": "code",
   "execution_count": 48,
   "metadata": {},
   "outputs": [],
   "source": [
    "from sklearn.preprocessing import MinMaxScaler\n",
    "\n",
    "def load_hurricane(stock, seq_len):#load a single hurricane\n",
    "    amount_of_features = len(stock.columns)\n",
    "    data = stock.as_matrix() \n",
    "    sequence_length = seq_len + 1 # Because index starts at 0\n",
    "    result = []\n",
    "    \n",
    "    for index in range(len(data) - sequence_length):\n",
    "        result.append(data[index: index + sequence_length])\n",
    "    \n",
    "    result = np.array(result)\n",
    "    result = result[:,:-1]\n",
    "    return np.reshape(result, (result.shape[0], result.shape[1], amount_of_features))\n",
    "\n",
    "def prep_hurricane(hurr):\n",
    "    hurr.drop(['Month', 'Day', 'Hour', 'Lat', 'Long', 'unique-key'], axis = 1, inplace = True)\n",
    "    hurr = hurr[hurr['distance'] > 0]\n",
    "    hurr['distance'] = np.log(hurr['distance'])\n",
    "\n",
    "    hurr = hurr[hurr['direction'] > 0]\n",
    "    hurr['direction'] = np.log(hurr['direction'])\n",
    "\n",
    "    #print(hurr.head())\n",
    "    scaler = MinMaxScaler(feature_range=(0, 1))\n",
    "    return pd.DataFrame(scaler.fit_transform(hurr), columns=['WindSpeed', 'Pressure', 'Distance', 'Direction', 'gridID'])\n",
    "    # Normalize the values to predict them more easily in our model\n",
    "    \n",
    "    "
   ]
  },
  {
   "cell_type": "code",
   "execution_count": 63,
   "metadata": {},
   "outputs": [
    {
     "name": "stderr",
     "output_type": "stream",
     "text": [
      "d:\\anaconda\\envs\\tensorflow\\lib\\site-packages\\ipykernel_launcher.py:17: SettingWithCopyWarning: \n",
      "A value is trying to be set on a copy of a slice from a DataFrame\n",
      "\n",
      "See the caveats in the documentation: http://pandas.pydata.org/pandas-docs/stable/indexing.html#indexing-view-versus-copy\n",
      "d:\\anaconda\\envs\\tensorflow\\lib\\site-packages\\ipykernel_launcher.py:19: SettingWithCopyWarning: \n",
      "A value is trying to be set on a copy of a slice from a DataFrame.\n",
      "Try using .loc[row_indexer,col_indexer] = value instead\n",
      "\n",
      "See the caveats in the documentation: http://pandas.pydata.org/pandas-docs/stable/indexing.html#indexing-view-versus-copy\n"
     ]
    },
    {
     "data": {
      "image/png": "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\n",
      "text/plain": [
       "<matplotlib.figure.Figure at 0x1efe57ea5c0>"
      ]
     },
     "metadata": {},
     "output_type": "display_data"
    }
   ],
   "source": [
    "from mpl_toolkits.basemap import Basemap\n",
    "import matplotlib.cm as cm\n",
    "\n",
    "name = 'MICHAEL-2000-17' # Hurricane Key\n",
    "window=14\n",
    "# Graph the trajectories of the longest hurricanes (the ones that traveled the most)\n",
    "data = pd.read_csv('checkpoint-dataframe.csv', index_col=0, header=0)\n",
    "\n",
    "\n",
    "\n",
    "\n",
    "\n",
    "plt.figure(figsize=(10,5))\n",
    "m = Basemap(llcrnrlon=-110.,llcrnrlat=5.,urcrnrlon=10.,urcrnrlat=60.,\n",
    "            rsphere=(6378137.00,6356752.3142),\n",
    "            resolution='l',\n",
    "            projection='merc',\n",
    "            lat_0=40.,lon_0=-20.,lat_ts=20.)\n",
    "m.drawcoastlines()\n",
    "m.drawcountries()\n",
    "m.drawmapboundary(fill_color='white')\n",
    "m.fillcontinents(color='#D3D3D3')\n",
    "m.drawparallels(np.arange(10,90,20),labels=[1,1,0,1])\n",
    "m.drawmeridians(np.arange(-180,180,30),labels=[1,1,0,1])\n",
    "\n",
    "hurricane = prep_hurricane(data[data['unique-key'] == name])\n",
    "hurr_data = load_hurricane(hurricane[::-1], window)\n",
    "\n",
    "pred = model.predict(hurr_data)\n",
    "long, lat = grid2coord(gridScaler.inverse_transform(pred[:len(hurricane)]))\n",
    "xpt, ypt = m(long, lat)\n",
    "#     plt.text(xpt[40]+100000,ypt[40]+100000, '%s (%5.1fW,%3.1fN)' % (keys[x][1].split('-')[0],long[0],lat[0]))\n",
    "plt.text(xpt[len(lat) - 1]+100000,ypt[len(long) - 1]+100000, '%s (%s)' % ('predicted value',name.split('-')[1]))\n",
    "m.plot(xpt, ypt, linewidth=2, color='#C70039')\n",
    "\n",
    "hurr = data[data['unique-key'] == name]\n",
    "lat = hurr['Lat'].values\n",
    "long = hurr['Long'].values\n",
    "xpt, ypt = m(long, lat)\n",
    "#     plt.text(xpt[40]+100000,ypt[40]+100000, '%s (%5.1fW,%3.1fN)' % (keys[x][1].split('-')[0],long[0],lat[0]))\n",
    "plt.text(xpt[len(lat) - 1]+100000,ypt[len(long) - 1]+100000, '%s (%s)' % (name.split('-')[0],name.split('-')[1]))\n",
    "m.plot(xpt, ypt, linewidth=2, color='#C70039')\n",
    "\n",
    "plt.title('Top 5 Atlantic Hurricanes (Distance Traveled)')\n",
    "plt.savefig('largest_dist_hurricanes')\n",
    "plt.show()"
   ]
  },
  {
   "cell_type": "code",
   "execution_count": 66,
   "metadata": {},
   "outputs": [
    {
     "name": "stderr",
     "output_type": "stream",
     "text": [
      "d:\\anaconda\\envs\\tensorflow\\lib\\site-packages\\ipykernel_launcher.py:17: SettingWithCopyWarning: \n",
      "A value is trying to be set on a copy of a slice from a DataFrame\n",
      "\n",
      "See the caveats in the documentation: http://pandas.pydata.org/pandas-docs/stable/indexing.html#indexing-view-versus-copy\n",
      "d:\\anaconda\\envs\\tensorflow\\lib\\site-packages\\ipykernel_launcher.py:19: SettingWithCopyWarning: \n",
      "A value is trying to be set on a copy of a slice from a DataFrame.\n",
      "Try using .loc[row_indexer,col_indexer] = value instead\n",
      "\n",
      "See the caveats in the documentation: http://pandas.pydata.org/pandas-docs/stable/indexing.html#indexing-view-versus-copy\n"
     ]
    },
    {
     "name": "stdout",
     "output_type": "stream",
     "text": [
      "(4, 14, 5)\n",
      "19\n",
      "4\n"
     ]
    },
    {
     "data": {
      "image/png": "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\n",
      "text/plain": [
       "<matplotlib.figure.Figure at 0x1efff930198>"
      ]
     },
     "metadata": {},
     "output_type": "display_data"
    }
   ],
   "source": [
    "data = pd.read_csv('checkpoint-dataframe.csv', index_col=0, header=0)\n",
    "name = 'MICHAEL-2000-17' # Hurricane Key\n",
    "\n",
    "hurricane = prep_hurricane(data[data['unique-key'] == name])\n",
    "hurr_data = load_hurricane(hurricane[::-1], window)\n",
    "\n",
    "print(hurr_data.shape)\n",
    "print(len(hurricane))\n",
    "pred = model.predict(hurr_data)\n",
    "\n",
    "plt.figure(figsize=(15, 4), dpi=100)\n",
    "plt.plot(pred, linewidth=1, color='red', label='Prediction Grid Locations')\n",
    "plt.plot(hurricane['gridID'], color='blue', label='Real Grid Locations')\n",
    "plt.legend(loc='upper left')\n",
    "\n",
    "plt.savefig('grid_accuracy.png')\n",
    "plt.show()"
   ]
  },
  {
   "cell_type": "code",
   "execution_count": null,
   "metadata": {},
   "outputs": [],
   "source": []
  }
 ],
 "metadata": {
  "kernelspec": {
   "display_name": "Python 3",
   "language": "python",
   "name": "python3"
  },
  "language_info": {
   "codemirror_mode": {
    "name": "ipython",
    "version": 3
   },
   "file_extension": ".py",
   "mimetype": "text/x-python",
   "name": "python",
   "nbconvert_exporter": "python",
   "pygments_lexer": "ipython3",
   "version": "3.6.3"
  }
 },
 "nbformat": 4,
 "nbformat_minor": 2
}
